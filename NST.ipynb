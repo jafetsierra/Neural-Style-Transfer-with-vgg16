{
  "nbformat": 4,
  "nbformat_minor": 0,
  "metadata": {
    "kernelspec": {
      "display_name": "Python 3",
      "language": "python",
      "name": "python3"
    },
    "language_info": {
      "codemirror_mode": {
        "name": "ipython",
        "version": 3
      },
      "file_extension": ".py",
      "mimetype": "text/x-python",
      "name": "python",
      "nbconvert_exporter": "python",
      "pygments_lexer": "ipython3",
      "version": "3.8.6"
    },
    "colab": {
      "name": "NST.ipynb",
      "provenance": [],
      "collapsed_sections": []
    },
    "accelerator": "GPU",
    "widgets": {
      "application/vnd.jupyter.widget-state+json": {
        "21412c9b7cbf495fa5192cf6c9c4fa82": {
          "model_module": "@jupyter-widgets/controls",
          "model_name": "HBoxModel",
          "model_module_version": "1.5.0",
          "state": {
            "_dom_classes": [],
            "_model_module": "@jupyter-widgets/controls",
            "_model_module_version": "1.5.0",
            "_model_name": "HBoxModel",
            "_view_count": null,
            "_view_module": "@jupyter-widgets/controls",
            "_view_module_version": "1.5.0",
            "_view_name": "HBoxView",
            "box_style": "",
            "children": [
              "IPY_MODEL_c8edac7a9f2c46a6a629c45b14e2e33e",
              "IPY_MODEL_e8c327005e8f43de9d779b1911e6b44e",
              "IPY_MODEL_960ea3e91df04cd3b401f7949f382964"
            ],
            "layout": "IPY_MODEL_7d5a095869084ec382e8e82e6fdc9293"
          }
        },
        "c8edac7a9f2c46a6a629c45b14e2e33e": {
          "model_module": "@jupyter-widgets/controls",
          "model_name": "HTMLModel",
          "model_module_version": "1.5.0",
          "state": {
            "_dom_classes": [],
            "_model_module": "@jupyter-widgets/controls",
            "_model_module_version": "1.5.0",
            "_model_name": "HTMLModel",
            "_view_count": null,
            "_view_module": "@jupyter-widgets/controls",
            "_view_module_version": "1.5.0",
            "_view_name": "HTMLView",
            "description": "",
            "description_tooltip": null,
            "layout": "IPY_MODEL_a03082d026db4c65bc46da368491fdb0",
            "placeholder": "​",
            "style": "IPY_MODEL_1148d5518e844c409ecf9905040fdf10",
            "value": "100%"
          }
        },
        "e8c327005e8f43de9d779b1911e6b44e": {
          "model_module": "@jupyter-widgets/controls",
          "model_name": "FloatProgressModel",
          "model_module_version": "1.5.0",
          "state": {
            "_dom_classes": [],
            "_model_module": "@jupyter-widgets/controls",
            "_model_module_version": "1.5.0",
            "_model_name": "FloatProgressModel",
            "_view_count": null,
            "_view_module": "@jupyter-widgets/controls",
            "_view_module_version": "1.5.0",
            "_view_name": "ProgressView",
            "bar_style": "success",
            "description": "",
            "description_tooltip": null,
            "layout": "IPY_MODEL_7e689101416c448e8a56135510888b1a",
            "max": 574673361,
            "min": 0,
            "orientation": "horizontal",
            "style": "IPY_MODEL_9f1f6083f3354b6fb6b80d3d8a4fa355",
            "value": 574673361
          }
        },
        "960ea3e91df04cd3b401f7949f382964": {
          "model_module": "@jupyter-widgets/controls",
          "model_name": "HTMLModel",
          "model_module_version": "1.5.0",
          "state": {
            "_dom_classes": [],
            "_model_module": "@jupyter-widgets/controls",
            "_model_module_version": "1.5.0",
            "_model_name": "HTMLModel",
            "_view_count": null,
            "_view_module": "@jupyter-widgets/controls",
            "_view_module_version": "1.5.0",
            "_view_name": "HTMLView",
            "description": "",
            "description_tooltip": null,
            "layout": "IPY_MODEL_2806409ab2df49dc8bef794ec82b9108",
            "placeholder": "​",
            "style": "IPY_MODEL_fc8c2951c17047c7800df9c4a985c3a6",
            "value": " 548M/548M [00:18&lt;00:00, 40.7MB/s]"
          }
        },
        "7d5a095869084ec382e8e82e6fdc9293": {
          "model_module": "@jupyter-widgets/base",
          "model_name": "LayoutModel",
          "model_module_version": "1.2.0",
          "state": {
            "_model_module": "@jupyter-widgets/base",
            "_model_module_version": "1.2.0",
            "_model_name": "LayoutModel",
            "_view_count": null,
            "_view_module": "@jupyter-widgets/base",
            "_view_module_version": "1.2.0",
            "_view_name": "LayoutView",
            "align_content": null,
            "align_items": null,
            "align_self": null,
            "border": null,
            "bottom": null,
            "display": null,
            "flex": null,
            "flex_flow": null,
            "grid_area": null,
            "grid_auto_columns": null,
            "grid_auto_flow": null,
            "grid_auto_rows": null,
            "grid_column": null,
            "grid_gap": null,
            "grid_row": null,
            "grid_template_areas": null,
            "grid_template_columns": null,
            "grid_template_rows": null,
            "height": null,
            "justify_content": null,
            "justify_items": null,
            "left": null,
            "margin": null,
            "max_height": null,
            "max_width": null,
            "min_height": null,
            "min_width": null,
            "object_fit": null,
            "object_position": null,
            "order": null,
            "overflow": null,
            "overflow_x": null,
            "overflow_y": null,
            "padding": null,
            "right": null,
            "top": null,
            "visibility": null,
            "width": null
          }
        },
        "a03082d026db4c65bc46da368491fdb0": {
          "model_module": "@jupyter-widgets/base",
          "model_name": "LayoutModel",
          "model_module_version": "1.2.0",
          "state": {
            "_model_module": "@jupyter-widgets/base",
            "_model_module_version": "1.2.0",
            "_model_name": "LayoutModel",
            "_view_count": null,
            "_view_module": "@jupyter-widgets/base",
            "_view_module_version": "1.2.0",
            "_view_name": "LayoutView",
            "align_content": null,
            "align_items": null,
            "align_self": null,
            "border": null,
            "bottom": null,
            "display": null,
            "flex": null,
            "flex_flow": null,
            "grid_area": null,
            "grid_auto_columns": null,
            "grid_auto_flow": null,
            "grid_auto_rows": null,
            "grid_column": null,
            "grid_gap": null,
            "grid_row": null,
            "grid_template_areas": null,
            "grid_template_columns": null,
            "grid_template_rows": null,
            "height": null,
            "justify_content": null,
            "justify_items": null,
            "left": null,
            "margin": null,
            "max_height": null,
            "max_width": null,
            "min_height": null,
            "min_width": null,
            "object_fit": null,
            "object_position": null,
            "order": null,
            "overflow": null,
            "overflow_x": null,
            "overflow_y": null,
            "padding": null,
            "right": null,
            "top": null,
            "visibility": null,
            "width": null
          }
        },
        "1148d5518e844c409ecf9905040fdf10": {
          "model_module": "@jupyter-widgets/controls",
          "model_name": "DescriptionStyleModel",
          "model_module_version": "1.5.0",
          "state": {
            "_model_module": "@jupyter-widgets/controls",
            "_model_module_version": "1.5.0",
            "_model_name": "DescriptionStyleModel",
            "_view_count": null,
            "_view_module": "@jupyter-widgets/base",
            "_view_module_version": "1.2.0",
            "_view_name": "StyleView",
            "description_width": ""
          }
        },
        "7e689101416c448e8a56135510888b1a": {
          "model_module": "@jupyter-widgets/base",
          "model_name": "LayoutModel",
          "model_module_version": "1.2.0",
          "state": {
            "_model_module": "@jupyter-widgets/base",
            "_model_module_version": "1.2.0",
            "_model_name": "LayoutModel",
            "_view_count": null,
            "_view_module": "@jupyter-widgets/base",
            "_view_module_version": "1.2.0",
            "_view_name": "LayoutView",
            "align_content": null,
            "align_items": null,
            "align_self": null,
            "border": null,
            "bottom": null,
            "display": null,
            "flex": null,
            "flex_flow": null,
            "grid_area": null,
            "grid_auto_columns": null,
            "grid_auto_flow": null,
            "grid_auto_rows": null,
            "grid_column": null,
            "grid_gap": null,
            "grid_row": null,
            "grid_template_areas": null,
            "grid_template_columns": null,
            "grid_template_rows": null,
            "height": null,
            "justify_content": null,
            "justify_items": null,
            "left": null,
            "margin": null,
            "max_height": null,
            "max_width": null,
            "min_height": null,
            "min_width": null,
            "object_fit": null,
            "object_position": null,
            "order": null,
            "overflow": null,
            "overflow_x": null,
            "overflow_y": null,
            "padding": null,
            "right": null,
            "top": null,
            "visibility": null,
            "width": null
          }
        },
        "9f1f6083f3354b6fb6b80d3d8a4fa355": {
          "model_module": "@jupyter-widgets/controls",
          "model_name": "ProgressStyleModel",
          "model_module_version": "1.5.0",
          "state": {
            "_model_module": "@jupyter-widgets/controls",
            "_model_module_version": "1.5.0",
            "_model_name": "ProgressStyleModel",
            "_view_count": null,
            "_view_module": "@jupyter-widgets/base",
            "_view_module_version": "1.2.0",
            "_view_name": "StyleView",
            "bar_color": null,
            "description_width": ""
          }
        },
        "2806409ab2df49dc8bef794ec82b9108": {
          "model_module": "@jupyter-widgets/base",
          "model_name": "LayoutModel",
          "model_module_version": "1.2.0",
          "state": {
            "_model_module": "@jupyter-widgets/base",
            "_model_module_version": "1.2.0",
            "_model_name": "LayoutModel",
            "_view_count": null,
            "_view_module": "@jupyter-widgets/base",
            "_view_module_version": "1.2.0",
            "_view_name": "LayoutView",
            "align_content": null,
            "align_items": null,
            "align_self": null,
            "border": null,
            "bottom": null,
            "display": null,
            "flex": null,
            "flex_flow": null,
            "grid_area": null,
            "grid_auto_columns": null,
            "grid_auto_flow": null,
            "grid_auto_rows": null,
            "grid_column": null,
            "grid_gap": null,
            "grid_row": null,
            "grid_template_areas": null,
            "grid_template_columns": null,
            "grid_template_rows": null,
            "height": null,
            "justify_content": null,
            "justify_items": null,
            "left": null,
            "margin": null,
            "max_height": null,
            "max_width": null,
            "min_height": null,
            "min_width": null,
            "object_fit": null,
            "object_position": null,
            "order": null,
            "overflow": null,
            "overflow_x": null,
            "overflow_y": null,
            "padding": null,
            "right": null,
            "top": null,
            "visibility": null,
            "width": null
          }
        },
        "fc8c2951c17047c7800df9c4a985c3a6": {
          "model_module": "@jupyter-widgets/controls",
          "model_name": "DescriptionStyleModel",
          "model_module_version": "1.5.0",
          "state": {
            "_model_module": "@jupyter-widgets/controls",
            "_model_module_version": "1.5.0",
            "_model_name": "DescriptionStyleModel",
            "_view_count": null,
            "_view_module": "@jupyter-widgets/base",
            "_view_module_version": "1.2.0",
            "_view_name": "StyleView",
            "description_width": ""
          }
        }
      }
    }
  },
  "cells": [
    {
      "cell_type": "markdown",
      "source": [
        "# Neural Style Transfer\n",
        "\n",
        "*  Jafet Israel sierra Lagos\n",
        "*  jafet.sierra.l@gmail.com"
      ],
      "metadata": {
        "id": "PkcDkA8uCjA8"
      }
    },
    {
      "cell_type": "code",
      "source": [
        "#Libraries\n",
        "import torch\n",
        "import torch.nn as nn\n",
        "import torch.optim as optim\n",
        "from PIL import Image\n",
        "import torchvision.transforms as transforms\n",
        "import torchvision.models as models\n",
        "from torchvision.utils import save_image\n",
        "import matplotlib.pyplot as plt"
      ],
      "metadata": {
        "id": "CdZX1Yb6CiOm"
      },
      "execution_count": null,
      "outputs": []
    },
    {
      "cell_type": "code",
      "source": [
        "model = models.vgg19(pretrained=True).features"
      ],
      "metadata": {
        "colab": {
          "base_uri": "https://localhost:8080/",
          "height": 86,
          "referenced_widgets": [
            "21412c9b7cbf495fa5192cf6c9c4fa82",
            "c8edac7a9f2c46a6a629c45b14e2e33e",
            "e8c327005e8f43de9d779b1911e6b44e",
            "960ea3e91df04cd3b401f7949f382964",
            "7d5a095869084ec382e8e82e6fdc9293",
            "a03082d026db4c65bc46da368491fdb0",
            "1148d5518e844c409ecf9905040fdf10",
            "7e689101416c448e8a56135510888b1a",
            "9f1f6083f3354b6fb6b80d3d8a4fa355",
            "2806409ab2df49dc8bef794ec82b9108",
            "fc8c2951c17047c7800df9c4a985c3a6"
          ]
        },
        "id": "O4bgCAaEDIht",
        "outputId": "b190c647-6070-4398-c3c4-7c2f56c56c6d"
      },
      "execution_count": null,
      "outputs": [
        {
          "output_type": "stream",
          "name": "stderr",
          "text": [
            "Downloading: \"https://download.pytorch.org/models/vgg19-dcbb9e9d.pth\" to /root/.cache/torch/hub/checkpoints/vgg19-dcbb9e9d.pth\n"
          ]
        },
        {
          "output_type": "display_data",
          "data": {
            "text/plain": [
              "  0%|          | 0.00/548M [00:00<?, ?B/s]"
            ],
            "application/vnd.jupyter.widget-view+json": {
              "version_major": 2,
              "version_minor": 0,
              "model_id": "21412c9b7cbf495fa5192cf6c9c4fa82"
            }
          },
          "metadata": {}
        }
      ]
    },
    {
      "cell_type": "code",
      "source": [
        "from torch.serialization import load\n",
        "class VGG(nn.Module):\n",
        "  def __init__(self):\n",
        "    super(VGG,self).__init__()\n",
        "    self.chosen_features = ['0','5','10','19','28']\n",
        "    self.model = models.vgg19(pretrained=True).features[:29]\n",
        "  def forward(self,x):\n",
        "    features = []\n",
        "    for num, layer in enumerate(self.model):\n",
        "      x = layer(x)\n",
        "      if str(num) in self.chosen_features:\n",
        "        features.append(x)\n",
        "    return features\n",
        "\n",
        "image_size = 720\n",
        "\n",
        "loader = transforms.Compose([\n",
        "                             transforms.Resize((image_size,image_size)),\n",
        "                             transforms.ToTensor(),\n",
        "])\n",
        "\n",
        "def load_image(image_name):\n",
        "  image = Image.open(image_name)\n",
        "  image = loader(image).unsqueeze(0)\n",
        "  return image.to(device)\n",
        "\n",
        "device = torch.device(\"cuda\" if torch.cuda.is_available else \"cpu\")"
      ],
      "metadata": {
        "id": "-39ZrZKdEz2u"
      },
      "execution_count": null,
      "outputs": []
    },
    {
      "cell_type": "code",
      "source": [
        "content_img = load_image('profile2.png')\n",
        "style_img   = load_image('Starry_Night.jpg')\n",
        "\n",
        "generated   = content_img.clone().requires_grad_(True)\n",
        "\n",
        "#Model\n",
        "model = VGG().to(device).eval()\n",
        "\n",
        "\n",
        "#hyperparameters\n",
        "epochs = 10001\n",
        "lr     = 1e-3\n",
        "alpha  = 0.5\n",
        "beta   = 0.1\n",
        "\n",
        "optimizer = optim.Adam([generated],lr=lr)"
      ],
      "metadata": {
        "id": "0rC1y_iAI3OO"
      },
      "execution_count": null,
      "outputs": []
    },
    {
      "cell_type": "code",
      "source": [
        "#Training\n",
        "for epoch in range(epochs):\n",
        "  generated_f = model(generated)\n",
        "  content_f   = model(content_img)\n",
        "  style_f     = model(style_img)\n",
        "\n",
        "  style_loss = 0\n",
        "  content_loss = 0\n",
        "\n",
        "  for gen_f, cont_f, st_f in zip(generated_f,content_f,style_f):\n",
        "    batch_size, channel, height, width = gen_f.shape\n",
        "\n",
        "    content_loss += torch.mean((gen_f - cont_f)**2)\n",
        "\n",
        "    #Gram matrix\n",
        "    #generated gm\n",
        "    G = gen_f.view(channel,height*width).mm(gen_f.view(channel,height*width).t())\n",
        "    #style gm\n",
        "    S = st_f.view(channel,height*width).mm(st_f.view(channel,height*width).t())\n",
        "    \n",
        "    style_loss += torch.mean((G-S)**2)\n",
        "  \n",
        "  total_loss  = alpha * content_loss + beta * style_loss\n",
        "\n",
        "  optimizer.zero_grad()\n",
        "  total_loss.backward()\n",
        "  optimizer.step()\n",
        "\n",
        "  if epoch % 1000==0:\n",
        "    print(f'Epoch: {epoch} - loss: {total_loss}')\n",
        "    save_image(generated,f'generated_{epoch/1000}.png')"
      ],
      "metadata": {
        "colab": {
          "base_uri": "https://localhost:8080/"
        },
        "id": "-5D3lpKVJBI2",
        "outputId": "0ad67603-38a6-4909-b4a3-07c6bc8453b5"
      },
      "execution_count": null,
      "outputs": [
        {
          "output_type": "stream",
          "name": "stdout",
          "text": [
            "Epoch: 0 - loss: 67395168.0\n",
            "Epoch: 1000 - loss: 136289.515625\n",
            "Epoch: 2000 - loss: 61382.08203125\n",
            "Epoch: 3000 - loss: 36800.77734375\n",
            "Epoch: 4000 - loss: 22732.7265625\n",
            "Epoch: 5000 - loss: 14721.65234375\n",
            "Epoch: 6000 - loss: 10117.4765625\n",
            "Epoch: 7000 - loss: 7392.0048828125\n",
            "Epoch: 8000 - loss: 5659.48486328125\n",
            "Epoch: 9000 - loss: 4538.7958984375\n",
            "Epoch: 10000 - loss: 3767.140869140625\n"
          ]
        }
      ]
    },
    {
      "cell_type": "code",
      "source": [
        "generated"
      ],
      "metadata": {
        "colab": {
          "base_uri": "https://localhost:8080/"
        },
        "id": "ugkwEP8O6zEx",
        "outputId": "59445fba-bdd6-4d6a-f3cc-6d651d67c86e"
      },
      "execution_count": null,
      "outputs": [
        {
          "output_type": "execute_result",
          "data": {
            "text/plain": [
              "tensor([[[[ 0.0957,  0.4492,  0.3655,  ...,  0.1953,  0.5909,  0.6249],\n",
              "          [ 0.6098,  0.7472,  0.5659,  ...,  0.3508,  0.3554,  0.4762],\n",
              "          [ 0.7125,  0.6386,  0.7035,  ...,  0.1197,  0.2789,  0.5420],\n",
              "          ...,\n",
              "          [ 0.5948,  0.5599,  0.3417,  ..., -0.0574,  0.0577,  0.4617],\n",
              "          [ 0.5819,  0.5223,  0.2855,  ...,  0.2428,  0.3896,  0.6125],\n",
              "          [ 0.6395,  0.3739,  0.3024,  ...,  0.2667,  0.5245,  0.6260]],\n",
              "\n",
              "         [[ 0.3235,  0.3907,  0.5074,  ...,  0.2877,  0.3103,  0.3295],\n",
              "          [ 0.6588,  0.7333,  0.7376,  ...,  0.3418,  0.4705,  0.9133],\n",
              "          [ 0.6632,  0.7601,  0.6918,  ...,  0.1647,  0.1881,  0.6574],\n",
              "          ...,\n",
              "          [ 0.5342,  0.5763,  0.4082,  ...,  0.0993,  0.1724,  0.6110],\n",
              "          [ 0.5303,  0.4385,  0.3602,  ...,  0.1920,  0.2635,  0.7188],\n",
              "          [ 0.5788,  0.5275,  0.3661,  ...,  0.3102,  0.4731,  0.7227]],\n",
              "\n",
              "         [[ 1.0793,  0.5123,  0.6882,  ...,  0.3944,  0.6315,  0.9132],\n",
              "          [ 0.7296,  0.5828,  0.7452,  ...,  0.5175,  0.2781,  0.4548],\n",
              "          [ 0.6180,  0.7505,  0.8295,  ...,  0.2410,  0.1693,  1.0282],\n",
              "          ...,\n",
              "          [ 0.5086,  0.4361,  0.3765,  ...,  0.2430, -0.0413,  0.8877],\n",
              "          [ 0.4676,  0.3021,  0.3212,  ...,  0.3247,  0.1235,  0.8700],\n",
              "          [ 0.2804,  0.3055,  0.3074,  ...,  0.7450,  0.3930,  1.1621]]]],\n",
              "       device='cuda:0', requires_grad=True)"
            ]
          },
          "metadata": {},
          "execution_count": 10
        }
      ]
    },
    {
      "cell_type": "code",
      "source": [
        ""
      ],
      "metadata": {
        "id": "h9YZQLNh63Qt"
      },
      "execution_count": null,
      "outputs": []
    }
  ]
}